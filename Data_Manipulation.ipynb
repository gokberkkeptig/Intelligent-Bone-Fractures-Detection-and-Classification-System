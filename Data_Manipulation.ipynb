{
  "nbformat": 4,
  "nbformat_minor": 0,
  "metadata": {
    "colab": {
      "name": "Data_Manipulation.ipynb",
      "provenance": [],
      "collapsed_sections": [],
      "include_colab_link": true
    },
    "kernelspec": {
      "display_name": "Python 3",
      "name": "python3"
    },
    "language_info": {
      "name": "python"
    }
  },
  "cells": [
    {
      "cell_type": "markdown",
      "metadata": {
        "id": "view-in-github",
        "colab_type": "text"
      },
      "source": [
        "<a href=\"https://colab.research.google.com/github/gokberkkeptig/Intelligent-Bone-Fractures-Detection-and-Classification-System/blob/master/Data_Manipulation.ipynb\" target=\"_parent\"><img src=\"https://colab.research.google.com/assets/colab-badge.svg\" alt=\"Open In Colab\"/></a>"
      ]
    },
    {
      "cell_type": "code",
      "metadata": {
        "colab": {
          "base_uri": "https://localhost:8080/"
        },
        "id": "VgxjWMLugyB6",
        "outputId": "d6270120-eb04-41be-81dd-8ed3356751a2"
      },
      "source": [
        "from google.colab import drive\n",
        "drive.mount('/content/drive')"
      ],
      "execution_count": null,
      "outputs": [
        {
          "output_type": "stream",
          "text": [
            "Mounted at /content/drive\n"
          ],
          "name": "stdout"
        }
      ]
    },
    {
      "cell_type": "code",
      "metadata": {
        "id": "4KU7gtCXhCxB"
      },
      "source": [
        "#For given yolo annotation file formats it converts it to pixel values (x_abs, y_abs, width, height) \n",
        "\n",
        "import glob\n",
        "import os\n",
        "import numpy as np\n",
        "\n",
        "\n",
        "\n",
        "def get_pixel_values(list_coordinates):\n",
        "\n",
        "  list_pixel1 = []\n",
        "  for list1 in list_coordinates:\n",
        "    list_pixel2 = []\n",
        "    for list2 in list1:\n",
        "      \n",
        "      abs_x = round(float(list2[1])*250)\n",
        "      abs_y = round(float(list2[2])*250)\n",
        "      abs_w = round(float(list2[3])*250)\n",
        "      abs_h = round(float(list2[4])*250)\n",
        "      list_pixel3 = [abs_x,abs_y,abs_w,abs_h]\n",
        "      \n",
        "      list_pixel2.append(list_pixel3)\n",
        "    \n",
        "    list_pixel1.append(list_pixel2)\n",
        "  \n",
        "  print(list_pixel1)\n",
        "\n",
        "\n",
        "\n",
        "files = glob.glob('/content/drive/MyDrive/Intelligent Bone Fractures Detection and Classification System/Data Augmentation/Data_txt_to_Array/trainData/*')\n",
        "\n",
        "list_coordinates = []\n",
        "\n",
        "for txt_file in files:\n",
        "\n",
        "  line_list = []\n",
        "\n",
        "  fileOpen = open(txt_file, 'r')\n",
        "  print(txt_file)\n",
        "  lines = fileOpen.readlines()\n",
        "  for line in lines:\n",
        "    line = line.split()\n",
        "    line_list.append(line)\n",
        "\n",
        "  list_coordinates.append(line_list)\n",
        "  \n",
        "\n",
        "  fileOpen.close()\n",
        "\n",
        "  if not line:\n",
        "    break\n",
        "  \n",
        "  print(line_list)\n",
        "\n"
      ],
      "execution_count": null,
      "outputs": []
    },
    {
      "cell_type": "code",
      "metadata": {
        "id": "PyWC5daS_DdM"
      },
      "source": [
        "get_pixel_values(list_coordinates) #Converts the yolo txt format values to image pixel values (abs_x, abs_y, width, height) --> represent bounding box on image"
      ],
      "execution_count": null,
      "outputs": []
    }
  ]
}