{
  "nbformat": 4,
  "nbformat_minor": 0,
  "metadata": {
    "colab": {
      "name": "yolov3.ipynb",
      "provenance": [],
      "include_colab_link": true
    },
    "kernelspec": {
      "name": "python3",
      "display_name": "Python 3"
    },
    "language_info": {
      "name": "python"
    },
    "accelerator": "GPU"
  },
  "cells": [
    {
      "cell_type": "markdown",
      "metadata": {
        "id": "view-in-github",
        "colab_type": "text"
      },
      "source": [
        "<a href=\"https://colab.research.google.com/github/gokberkkeptig/Intelligent-Bone-Fractures-Detection-and-Classification-System/blob/main/yolov3.ipynb\" target=\"_parent\"><img src=\"https://colab.research.google.com/assets/colab-badge.svg\" alt=\"Open In Colab\"/></a>"
      ]
    },
    {
      "cell_type": "code",
      "metadata": {
        "id": "iOZ_djtsSHCX"
      },
      "source": [
        "#!ls '/content/drive/MyDrive/Intelligent Bone Fractures Detection and Classification System/Dataset/trainAllData'"
      ],
      "execution_count": null,
      "outputs": []
    },
    {
      "cell_type": "code",
      "metadata": {
        "id": "syfcORZhPP_e"
      },
      "source": [
        ""
      ],
      "execution_count": null,
      "outputs": []
    },
    {
      "cell_type": "code",
      "metadata": {
        "id": "eS_sGCZIhjC_",
        "colab": {
          "base_uri": "https://localhost:8080/"
        },
        "outputId": "2e20bba2-eca3-4142-a756-65445c10490e"
      },
      "source": [
        "#%cd '/content/drive/MyDrive/Intelligent Bone Fractures Detection and Classification System/Darknet'"
      ],
      "execution_count": null,
      "outputs": [
        {
          "output_type": "stream",
          "text": [
            "[Errno 2] No such file or directory: 'drive/MyDrive/Intelligent Bone Fractures Detection and Classification System/Darknet'\n",
            "/content/drive/MyDrive/Intelligent Bone Fractures Detection and Classification System/DarkNetObjFiles\n"
          ],
          "name": "stdout"
        }
      ]
    },
    {
      "cell_type": "code",
      "metadata": {
        "id": "jcsOtV4ZPfvL"
      },
      "source": [
        ""
      ],
      "execution_count": null,
      "outputs": []
    },
    {
      "cell_type": "code",
      "metadata": {
        "colab": {
          "base_uri": "https://localhost:8080/"
        },
        "id": "1IQHHuXgMAy5",
        "outputId": "07564ed6-2dd9-4e9c-c483-07a9993f3929"
      },
      "source": [
        "%cd .."
      ],
      "execution_count": null,
      "outputs": [
        {
          "output_type": "stream",
          "text": [
            "/content/drive/My Drive/Intelligent Bone Fractures Detection and Classification System/DarkNetObjFiles\n"
          ],
          "name": "stdout"
        }
      ]
    },
    {
      "cell_type": "code",
      "metadata": {
        "id": "fkdSt21Qh7Wv",
        "colab": {
          "base_uri": "https://localhost:8080/"
        },
        "outputId": "e1500303-e635-4388-b9d6-867a3c5a3960"
      },
      "source": [
        "!ls"
      ],
      "execution_count": null,
      "outputs": [
        {
          "output_type": "stream",
          "text": [
            "adc.json  drive  Google_drive  mycreds.json  sample_data\n"
          ],
          "name": "stdout"
        }
      ]
    },
    {
      "cell_type": "code",
      "metadata": {
        "id": "bNj6eQ3xiL9Z"
      },
      "source": [
        "from google.colab import drive"
      ],
      "execution_count": null,
      "outputs": []
    },
    {
      "cell_type": "code",
      "metadata": {
        "colab": {
          "base_uri": "https://localhost:8080/"
        },
        "id": "v8p5AwzaLwGW",
        "outputId": "0fb357f8-32fe-4bcf-c1c3-c59b7d5df0bf"
      },
      "source": [
        "from google.colab import drive\n",
        "drive.mount('/content/drive')"
      ],
      "execution_count": null,
      "outputs": [
        {
          "output_type": "stream",
          "text": [
            "Mounted at /content/drive\n"
          ],
          "name": "stdout"
        }
      ]
    },
    {
      "cell_type": "code",
      "metadata": {
        "id": "OvWOnJwjvSAQ"
      },
      "source": [
        "!python creating-files-data-and-name.py"
      ],
      "execution_count": null,
      "outputs": []
    },
    {
      "cell_type": "code",
      "metadata": {
        "id": "DSriiWVHxxGo"
      },
      "source": [
        "!python objFile/creating-train-and-test-txt-files.py"
      ],
      "execution_count": null,
      "outputs": []
    },
    {
      "cell_type": "code",
      "metadata": {
        "id": "k2bDcllb2bMi"
      },
      "source": [
        "!Darknet/darknet detector train objFile/labelled_data.data Darknet/cfg/yolov3-custom.cfg objWeight/darknet53.conv.74 -dont_show"
      ],
      "execution_count": null,
      "outputs": []
    },
    {
      "cell_type": "code",
      "metadata": {
        "id": "paM5_ECPDJjA",
        "colab": {
          "base_uri": "https://localhost:8080/"
        },
        "outputId": "8f912202-15ff-4ef9-fca0-d60ef0fec715"
      },
      "source": [
        "!nvidia-smi"
      ],
      "execution_count": null,
      "outputs": [
        {
          "output_type": "stream",
          "text": [
            "Sun Apr 11 17:18:42 2021       \n",
            "+-----------------------------------------------------------------------------+\n",
            "| NVIDIA-SMI 460.67       Driver Version: 460.32.03    CUDA Version: 11.2     |\n",
            "|-------------------------------+----------------------+----------------------+\n",
            "| GPU  Name        Persistence-M| Bus-Id        Disp.A | Volatile Uncorr. ECC |\n",
            "| Fan  Temp  Perf  Pwr:Usage/Cap|         Memory-Usage | GPU-Util  Compute M. |\n",
            "|                               |                      |               MIG M. |\n",
            "|===============================+======================+======================|\n",
            "|   0  Tesla K80           Off  | 00000000:00:04.0 Off |                    0 |\n",
            "| N/A   33C    P8    26W / 149W |      0MiB / 11441MiB |      0%      Default |\n",
            "|                               |                      |                  N/A |\n",
            "+-------------------------------+----------------------+----------------------+\n",
            "                                                                               \n",
            "+-----------------------------------------------------------------------------+\n",
            "| Processes:                                                                  |\n",
            "|  GPU   GI   CI        PID   Type   Process name                  GPU Memory |\n",
            "|        ID   ID                                                   Usage      |\n",
            "|=============================================================================|\n",
            "|  No running processes found                                                 |\n",
            "+-----------------------------------------------------------------------------+\n"
          ],
          "name": "stdout"
        }
      ]
    },
    {
      "cell_type": "code",
      "metadata": {
        "id": "gMy_XVBZJmK3",
        "colab": {
          "base_uri": "https://localhost:8080/"
        },
        "outputId": "63bd7373-6b53-442f-a257-02562eaae101"
      },
      "source": [
        "!Darknet/darknet detector train Darknet/data/obj/labelled_data.data Darknet/cfg/yolov3-custom.cfg objWeight/darknet53.conv.74 -dont_show"
      ],
      "execution_count": null,
      "outputs": [
        {
          "output_type": "stream",
          "text": [
            "yolov3-custom\n",
            "layer     filters    size              input                output\n",
            "    0 conv     32  3 x 3 / 1   416 x 416 x   3   ->   416 x 416 x  32  0.299 BFLOPs\n",
            "    1 conv     64  3 x 3 / 2   416 x 416 x  32   ->   208 x 208 x  64  1.595 BFLOPs\n",
            "    2 conv     32  1 x 1 / 1   208 x 208 x  64   ->   208 x 208 x  32  0.177 BFLOPs\n",
            "    3 conv     64  3 x 3 / 1   208 x 208 x  32   ->   208 x 208 x  64  1.595 BFLOPs\n",
            "    4 res    1                 208 x 208 x  64   ->   208 x 208 x  64\n",
            "    5 conv    128  3 x 3 / 2   208 x 208 x  64   ->   104 x 104 x 128  1.595 BFLOPs\n",
            "    6 conv     64  1 x 1 / 1   104 x 104 x 128   ->   104 x 104 x  64  0.177 BFLOPs\n",
            "    7 conv    128  3 x 3 / 1   104 x 104 x  64   ->   104 x 104 x 128  1.595 BFLOPs\n",
            "    8 res    5                 104 x 104 x 128   ->   104 x 104 x 128\n",
            "    9 conv     64  1 x 1 / 1   104 x 104 x 128   ->   104 x 104 x  64  0.177 BFLOPs\n",
            "   10 conv    128  3 x 3 / 1   104 x 104 x  64   ->   104 x 104 x 128  1.595 BFLOPs\n",
            "   11 res    8                 104 x 104 x 128   ->   104 x 104 x 128\n",
            "   12 conv    256  3 x 3 / 2   104 x 104 x 128   ->    52 x  52 x 256  1.595 BFLOPs\n",
            "   13 conv    128  1 x 1 / 1    52 x  52 x 256   ->    52 x  52 x 128  0.177 BFLOPs\n",
            "   14 conv    256  3 x 3 / 1    52 x  52 x 128   ->    52 x  52 x 256  1.595 BFLOPs\n",
            "   15 res   12                  52 x  52 x 256   ->    52 x  52 x 256\n",
            "   16 conv    128  1 x 1 / 1    52 x  52 x 256   ->    52 x  52 x 128  0.177 BFLOPs\n",
            "   17 conv    256  3 x 3 / 1    52 x  52 x 128   ->    52 x  52 x 256  1.595 BFLOPs\n",
            "   18 res   15                  52 x  52 x 256   ->    52 x  52 x 256\n",
            "   19 conv    128  1 x 1 / 1    52 x  52 x 256   ->    52 x  52 x 128  0.177 BFLOPs\n",
            "   20 conv    256  3 x 3 / 1    52 x  52 x 128   ->    52 x  52 x 256  1.595 BFLOPs\n",
            "   21 res   18                  52 x  52 x 256   ->    52 x  52 x 256\n",
            "   22 conv    128  1 x 1 / 1    52 x  52 x 256   ->    52 x  52 x 128  0.177 BFLOPs\n",
            "   23 conv    256  3 x 3 / 1    52 x  52 x 128   ->    52 x  52 x 256  1.595 BFLOPs\n",
            "   24 res   21                  52 x  52 x 256   ->    52 x  52 x 256\n",
            "   25 conv    128  1 x 1 / 1    52 x  52 x 256   ->    52 x  52 x 128  0.177 BFLOPs\n",
            "   26 conv    256  3 x 3 / 1    52 x  52 x 128   ->    52 x  52 x 256  1.595 BFLOPs\n",
            "   27 res   24                  52 x  52 x 256   ->    52 x  52 x 256\n",
            "   28 conv    128  1 x 1 / 1    52 x  52 x 256   ->    52 x  52 x 128  0.177 BFLOPs\n",
            "   29 conv    256  3 x 3 / 1    52 x  52 x 128   ->    52 x  52 x 256  1.595 BFLOPs\n",
            "   30 res   27                  52 x  52 x 256   ->    52 x  52 x 256\n",
            "   31 conv    128  1 x 1 / 1    52 x  52 x 256   ->    52 x  52 x 128  0.177 BFLOPs\n",
            "   32 conv    256  3 x 3 / 1    52 x  52 x 128   ->    52 x  52 x 256  1.595 BFLOPs\n",
            "   33 res   30                  52 x  52 x 256   ->    52 x  52 x 256\n",
            "   34 conv    128  1 x 1 / 1    52 x  52 x 256   ->    52 x  52 x 128  0.177 BFLOPs\n",
            "   35 conv    256  3 x 3 / 1    52 x  52 x 128   ->    52 x  52 x 256  1.595 BFLOPs\n",
            "   36 res   33                  52 x  52 x 256   ->    52 x  52 x 256\n",
            "   37 conv    512  3 x 3 / 2    52 x  52 x 256   ->    26 x  26 x 512  1.595 BFLOPs\n",
            "   38 conv    256  1 x 1 / 1    26 x  26 x 512   ->    26 x  26 x 256  0.177 BFLOPs\n",
            "   39 conv    512  3 x 3 / 1    26 x  26 x 256   ->    26 x  26 x 512  1.595 BFLOPs\n",
            "   40 res   37                  26 x  26 x 512   ->    26 x  26 x 512\n",
            "   41 conv    256  1 x 1 / 1    26 x  26 x 512   ->    26 x  26 x 256  0.177 BFLOPs\n",
            "   42 conv    512  3 x 3 / 1    26 x  26 x 256   ->    26 x  26 x 512  1.595 BFLOPs\n",
            "   43 res   40                  26 x  26 x 512   ->    26 x  26 x 512\n",
            "   44 conv    256  1 x 1 / 1    26 x  26 x 512   ->    26 x  26 x 256  0.177 BFLOPs\n",
            "   45 conv    512  3 x 3 / 1    26 x  26 x 256   ->    26 x  26 x 512  1.595 BFLOPs\n",
            "   46 res   43                  26 x  26 x 512   ->    26 x  26 x 512\n",
            "   47 conv    256  1 x 1 / 1    26 x  26 x 512   ->    26 x  26 x 256  0.177 BFLOPs\n",
            "   48 conv    512  3 x 3 / 1    26 x  26 x 256   ->    26 x  26 x 512  1.595 BFLOPs\n",
            "   49 res   46                  26 x  26 x 512   ->    26 x  26 x 512\n",
            "   50 conv    256  1 x 1 / 1    26 x  26 x 512   ->    26 x  26 x 256  0.177 BFLOPs\n",
            "   51 conv    512  3 x 3 / 1    26 x  26 x 256   ->    26 x  26 x 512  1.595 BFLOPs\n",
            "   52 res   49                  26 x  26 x 512   ->    26 x  26 x 512\n",
            "   53 conv    256  1 x 1 / 1    26 x  26 x 512   ->    26 x  26 x 256  0.177 BFLOPs\n",
            "   54 conv    512  3 x 3 / 1    26 x  26 x 256   ->    26 x  26 x 512  1.595 BFLOPs\n",
            "   55 res   52                  26 x  26 x 512   ->    26 x  26 x 512\n",
            "   56 conv    256  1 x 1 / 1    26 x  26 x 512   ->    26 x  26 x 256  0.177 BFLOPs\n",
            "   57 conv    512  3 x 3 / 1    26 x  26 x 256   ->    26 x  26 x 512  1.595 BFLOPs\n",
            "   58 res   55                  26 x  26 x 512   ->    26 x  26 x 512\n",
            "   59 conv    256  1 x 1 / 1    26 x  26 x 512   ->    26 x  26 x 256  0.177 BFLOPs\n",
            "   60 conv    512  3 x 3 / 1    26 x  26 x 256   ->    26 x  26 x 512  1.595 BFLOPs\n",
            "   61 res   58                  26 x  26 x 512   ->    26 x  26 x 512\n",
            "   62 conv   1024  3 x 3 / 2    26 x  26 x 512   ->    13 x  13 x1024  1.595 BFLOPs\n",
            "   63 conv    512  1 x 1 / 1    13 x  13 x1024   ->    13 x  13 x 512  0.177 BFLOPs\n",
            "   64 conv   1024  3 x 3 / 1    13 x  13 x 512   ->    13 x  13 x1024  1.595 BFLOPs\n",
            "   65 res   62                  13 x  13 x1024   ->    13 x  13 x1024\n",
            "   66 conv    512  1 x 1 / 1    13 x  13 x1024   ->    13 x  13 x 512  0.177 BFLOPs\n",
            "   67 conv   1024  3 x 3 / 1    13 x  13 x 512   ->    13 x  13 x1024  1.595 BFLOPs\n",
            "   68 res   65                  13 x  13 x1024   ->    13 x  13 x1024\n",
            "   69 conv    512  1 x 1 / 1    13 x  13 x1024   ->    13 x  13 x 512  0.177 BFLOPs\n",
            "   70 conv   1024  3 x 3 / 1    13 x  13 x 512   ->    13 x  13 x1024  1.595 BFLOPs\n",
            "   71 res   68                  13 x  13 x1024   ->    13 x  13 x1024\n",
            "   72 conv    512  1 x 1 / 1    13 x  13 x1024   ->    13 x  13 x 512  0.177 BFLOPs\n",
            "   73 conv   1024  3 x 3 / 1    13 x  13 x 512   ->    13 x  13 x1024  1.595 BFLOPs\n",
            "   74 res   71                  13 x  13 x1024   ->    13 x  13 x1024\n",
            "   75 conv    512  1 x 1 / 1    13 x  13 x1024   ->    13 x  13 x 512  0.177 BFLOPs\n",
            "   76 conv   1024  3 x 3 / 1    13 x  13 x 512   ->    13 x  13 x1024  1.595 BFLOPs\n",
            "   77 conv    512  1 x 1 / 1    13 x  13 x1024   ->    13 x  13 x 512  0.177 BFLOPs\n",
            "   78 conv   1024  3 x 3 / 1    13 x  13 x 512   ->    13 x  13 x1024  1.595 BFLOPs\n",
            "   79 conv    512  1 x 1 / 1    13 x  13 x1024   ->    13 x  13 x 512  0.177 BFLOPs\n",
            "   80 conv   1024  3 x 3 / 1    13 x  13 x 512   ->    13 x  13 x1024  1.595 BFLOPs\n",
            "   81 conv     21  1 x 1 / 1    13 x  13 x1024   ->    13 x  13 x  21  0.007 BFLOPs\n",
            "   82 yolo\n",
            "   83 route  79\n",
            "   84 conv    256  1 x 1 / 1    13 x  13 x 512   ->    13 x  13 x 256  0.044 BFLOPs\n",
            "   85 upsample            2x    13 x  13 x 256   ->    26 x  26 x 256\n",
            "   86 route  85 61\n",
            "   87 conv    256  1 x 1 / 1    26 x  26 x 768   ->    26 x  26 x 256  0.266 BFLOPs\n",
            "   88 conv    512  3 x 3 / 1    26 x  26 x 256   ->    26 x  26 x 512  1.595 BFLOPs\n",
            "   89 conv    256  1 x 1 / 1    26 x  26 x 512   ->    26 x  26 x 256  0.177 BFLOPs\n",
            "   90 conv    512  3 x 3 / 1    26 x  26 x 256   ->    26 x  26 x 512  1.595 BFLOPs\n",
            "   91 conv    256  1 x 1 / 1    26 x  26 x 512   ->    26 x  26 x 256  0.177 BFLOPs\n",
            "   92 conv    512  3 x 3 / 1    26 x  26 x 256   ->    26 x  26 x 512  1.595 BFLOPs\n",
            "   93 conv     21  1 x 1 / 1    26 x  26 x 512   ->    26 x  26 x  21  0.015 BFLOPs\n",
            "   94 yolo\n",
            "   95 route  91\n",
            "   96 conv    128  1 x 1 / 1    26 x  26 x 256   ->    26 x  26 x 128  0.044 BFLOPs\n",
            "   97 upsample            2x    26 x  26 x 128   ->    52 x  52 x 128\n",
            "   98 route  97 36\n",
            "   99 conv    128  1 x 1 / 1    52 x  52 x 384   ->    52 x  52 x 128  0.266 BFLOPs\n",
            "  100 conv    256  3 x 3 / 1    52 x  52 x 128   ->    52 x  52 x 256  1.595 BFLOPs\n",
            "  101 conv    128  1 x 1 / 1    52 x  52 x 256   ->    52 x  52 x 128  0.177 BFLOPs\n",
            "  102 conv    256  3 x 3 / 1    52 x  52 x 128   ->    52 x  52 x 256  1.595 BFLOPs\n",
            "  103 conv    128  1 x 1 / 1    52 x  52 x 256   ->    52 x  52 x 128  0.177 BFLOPs\n",
            "  104 conv    256  3 x 3 / 1    52 x  52 x 128   ->    52 x  52 x 256  1.595 BFLOPs\n",
            "  105 conv     21  1 x 1 / 1    52 x  52 x 256   ->    52 x  52 x  21  0.029 BFLOPs\n",
            "  106 yolo\n",
            "Loading weights from objWeight/darknet53.conv.74...Done!\n",
            "Learning Rate: 0.001, Momentum: 0.9, Decay: 0.0005\n",
            "Loaded: 8.859836 seconds\n",
            "Region 82 Avg IOU: 0.328410, Class: 0.552116, Obj: 0.507516, No Obj: 0.570667, .5R: 0.000000, .75R: 0.000000,  count: 2\n",
            "Region 94 Avg IOU: -nan, Class: -nan, Obj: -nan, No Obj: 0.524568, .5R: -nan, .75R: -nan,  count: 0\n",
            "Region 106 Avg IOU: -nan, Class: -nan, Obj: -nan, No Obj: 0.416666, .5R: -nan, .75R: -nan,  count: 0\n",
            "Region 82 Avg IOU: 0.371616, Class: 0.641039, Obj: 0.612821, No Obj: 0.567497, .5R: 0.500000, .75R: 0.000000,  count: 2\n",
            "Region 94 Avg IOU: -nan, Class: -nan, Obj: -nan, No Obj: 0.525374, .5R: -nan, .75R: -nan,  count: 0\n",
            "Region 106 Avg IOU: -nan, Class: -nan, Obj: -nan, No Obj: 0.416676, .5R: -nan, .75R: -nan,  count: 0\n",
            "^C\n"
          ],
          "name": "stdout"
        }
      ]
    },
    {
      "cell_type": "code",
      "metadata": {
        "id": "wQ9iOmjbE65C"
      },
      "source": [
        "!pip install -U -q PyDrive\n",
        "# these classes allow you to request the Google drive API\n",
        "import os\n",
        "import glob\n",
        "from pydrive.auth import GoogleAuth\n",
        "from pydrive.drive import GoogleDrive \n",
        "from google.colab import auth \n",
        "from oauth2client.client import GoogleCredentials\n",
        "\n",
        "# 1. Authenticate and create the PyDrive client.\n",
        "auth.authenticate_user()\n",
        "gauth = GoogleAuth()\n",
        "gauth.credentials = GoogleCredentials.get_application_default()\n",
        "drive = GoogleDrive(gauth)"
      ],
      "execution_count": null,
      "outputs": []
    },
    {
      "cell_type": "code",
      "metadata": {
        "id": "i10oIYcn8zym"
      },
      "source": [
        "#!find . -type f -name \"*.cfg\" -print0 | xargs -0 dos2unix"
      ],
      "execution_count": null,
      "outputs": []
    },
    {
      "cell_type": "code",
      "metadata": {
        "id": "gkyiL0DnEKTs",
        "colab": {
          "base_uri": "https://localhost:8080/"
        },
        "outputId": "e25cd53a-0bc1-477e-f96d-3b8571d4c3f3"
      },
      "source": [
        "%cd /content/drive/MyDrive/Intelligent Bone Fractures Detection and Classification System/DarkNetObjFiles"
      ],
      "execution_count": null,
      "outputs": [
        {
          "output_type": "stream",
          "text": [
            "/content/drive/.shortcut-targets-by-id/1A-bOR9giyk2rh52lYNu51Q9r6JUbF7VP/Intelligent Bone Fractures Detection and Classification System/DarkNetObjFiles\n"
          ],
          "name": "stdout"
        }
      ]
    },
    {
      "cell_type": "code",
      "metadata": {
        "id": "DNRsCdQIFvXz"
      },
      "source": [
        "!chmod +x Darknet/darknet"
      ],
      "execution_count": null,
      "outputs": []
    }
  ]
}